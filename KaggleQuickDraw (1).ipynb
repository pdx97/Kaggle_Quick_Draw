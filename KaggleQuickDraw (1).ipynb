{
 "cells": [
  {
   "cell_type": "code",
   "execution_count": 1,
   "metadata": {},
   "outputs": [
    {
     "name": "stderr",
     "output_type": "stream",
     "text": [
      "C:\\Users\\prakhar\\Anaconda32\\lib\\site-packages\\h5py\\__init__.py:36: FutureWarning: Conversion of the second argument of issubdtype from `float` to `np.floating` is deprecated. In future, it will be treated as `np.float64 == np.dtype(float).type`.\n",
      "  from ._conv import register_converters as _register_converters\n",
      "Using TensorFlow backend.\n"
     ]
    }
   ],
   "source": [
    "import os\n",
    "import ast\n",
    "import cv2\n",
    "import numpy as np\n",
    "import pandas as pd\n",
    "import seaborn as sns\n",
    "import matplotlib.pyplot as plt\n",
    "from sklearn.utils import shuffle\n",
    "from keras import optimizers\n",
    "from keras.layers import Dense, Dropout, Flatten, Conv2D, MaxPool2D, Activation, BatchNormalization\n",
    "from keras.models import Sequential\n",
    "# from keras.preprocessing.image import ImageDataGenerator\n",
    "from sklearn.model_selection import train_test_split\n",
    "from sklearn.metrics import confusion_matrix\n",
    "\n"
   ]
  },
  {
   "cell_type": "code",
   "execution_count": 2,
   "metadata": {},
   "outputs": [],
   "source": [
    "#It is used to convert the images into numpy array so that it can be trained for model. \n",
    "def drawing_to_np(drawing, shape=(28, 28)):\n",
    "    # evaluates the drawing array\n",
    "    drawing = eval(drawing)\n",
    "    fig, ax = plt.subplots()\n",
    "    # Close figure so it won't get displayed while transforming the set\n",
    "    plt.close(fig)\n",
    "    for x,y in drawing:\n",
    "        ax.plot(x, y, marker='.')\n",
    "        ax.axis('off')        \n",
    "    fig.canvas.draw()\n",
    "    # Convert images to numpy array\n",
    "    np_drawing = np.array(fig.canvas.renderer._renderer)\n",
    "    # Take only one channel\n",
    "    np_drawing =np_drawing[:, :, 1]    \n",
    "    # Normalize data\n",
    "    np_drawing = np_drawing / 255.\n",
    "    return cv2.resize(np_drawing, shape) # Resize array\n",
    "\n",
    "\n",
    "def plot_metrics_primary(acc, val_acc, loss, val_loss):\n",
    "    fig, (ax1, ax2) = plt.subplots(1, 2, sharex='col', figsize=(20,7))\n",
    "\n",
    "    ax1.plot(acc, label='Train Accuracy')\n",
    "    ax1.plot(val_acc, label='Validation accuracy')\n",
    "    ax1.legend(loc='best')\n",
    "    ax1.set_title('Accuracy')\n",
    "\n",
    "    ax2.plot(loss, label='Train loss')\n",
    "    ax2.plot(val_loss, label='Validation loss')\n",
    "    ax2.legend(loc='best')\n",
    "    ax2.set_title('Loss')\n",
    "\n",
    "    plt.xlabel('Epochs')"
   ]
  },
  {
   "cell_type": "code",
   "execution_count": 3,
   "metadata": {},
   "outputs": [],
   "source": [
    "def plot_confusion_matrix(cnf_matrix, labels): \n",
    "    cnf_matrix_norm = cnf_matrix.astype('float') / cnf_matrix.sum(axis=1)[:, np.newaxis]\n",
    "    df_cm = pd.DataFrame(cnf_matrix_norm, index=labels, columns=labels)\n",
    "    plt.figure(figsize=(20,7))\n",
    "    sns.heatmap(df_cm, annot=True, fmt='.2f', cmap=\"Blues\")"
   ]
  },
  {
   "cell_type": "code",
   "execution_count": 6,
   "metadata": {},
   "outputs": [],
   "source": [
    "TRAIN_PATH = 'D:/train_simplified/'\n",
    "TEST_PATH = 'D:/test_simplified.csv'\n",
    "SUBMISSION_NAME = 'D:/ssubmission.csv'"
   ]
  },
  {
   "cell_type": "code",
   "execution_count": 7,
   "metadata": {},
   "outputs": [
    {
     "name": "stdout",
     "output_type": "stream",
     "text": [
      "Total number of categories:  340\n",
      "Few Example Categories ['airplane', 'alarm clock', 'ambulance', 'angel', 'animal migration']\n"
     ]
    }
   ],
   "source": [
    "files = os.listdir(TRAIN_PATH)\n",
    "categories = [category.split('.')[0] for category in files]\n",
    "print('Total number of categories: ',len(categories))\n",
    "print('Few Example Categories',categories[0:5])"
   ]
  },
  {
   "cell_type": "code",
   "execution_count": 9,
   "metadata": {},
   "outputs": [],
   "source": [
    "train = pd.DataFrame()\n",
    "for file in os.listdir(TRAIN_PATH)[:6]:\n",
    "    train = train.append(pd.read_csv(TRAIN_PATH + file, usecols=[1, 5], nrows=2000))\n",
    "# Shuffle data\n",
    "train = shuffle(train, random_state=123)\n",
    "test = pd.read_csv(TEST_PATH, usecols=[0, 2], nrows=100)"
   ]
  },
  {
   "cell_type": "code",
   "execution_count": 10,
   "metadata": {},
   "outputs": [],
   "source": [
    "BATCH_SIZE = 64\n",
    "EPOCHS = 60\n",
    "LEARNING_RATE = 0.001\n",
    "N_CLASSES = train['word'].nunique()\n",
    "HEIGHT = 28\n",
    "WIDTH = 28\n",
    "CHANNEL = 1\n"
   ]
  },
  {
   "cell_type": "code",
   "execution_count": 11,
   "metadata": {},
   "outputs": [
    {
     "name": "stdout",
     "output_type": "stream",
     "text": [
      "Train set shape:  (12000, 2)\n",
      "Train set features: ['drawing' 'word']\n",
      "Train number of label categories: 6\n"
     ]
    },
    {
     "data": {
      "text/html": [
       "<div>\n",
       "<style scoped>\n",
       "    .dataframe tbody tr th:only-of-type {\n",
       "        vertical-align: middle;\n",
       "    }\n",
       "\n",
       "    .dataframe tbody tr th {\n",
       "        vertical-align: top;\n",
       "    }\n",
       "\n",
       "    .dataframe thead th {\n",
       "        text-align: right;\n",
       "    }\n",
       "</style>\n",
       "<table border=\"1\" class=\"dataframe\">\n",
       "  <thead>\n",
       "    <tr style=\"text-align: right;\">\n",
       "      <th></th>\n",
       "      <th>drawing</th>\n",
       "      <th>word</th>\n",
       "    </tr>\n",
       "  </thead>\n",
       "  <tbody>\n",
       "    <tr>\n",
       "      <th>1744</th>\n",
       "      <td>[[[16, 11, 15, 24, 36, 47, 58], [58, 44, 23, 6...</td>\n",
       "      <td>alarm clock</td>\n",
       "    </tr>\n",
       "    <tr>\n",
       "      <th>969</th>\n",
       "      <td>[[[24, 25, 37, 78, 92, 100, 109, 107, 100, 53,...</td>\n",
       "      <td>ant</td>\n",
       "    </tr>\n",
       "    <tr>\n",
       "      <th>10</th>\n",
       "      <td>[[[102, 63, 14, 2, 0, 9, 29, 51, 100, 142, 181...</td>\n",
       "      <td>airplane</td>\n",
       "    </tr>\n",
       "    <tr>\n",
       "      <th>1674</th>\n",
       "      <td>[[[110, 105, 106, 109, 156, 168, 195, 213, 231...</td>\n",
       "      <td>airplane</td>\n",
       "    </tr>\n",
       "    <tr>\n",
       "      <th>398</th>\n",
       "      <td>[[[112, 114, 103, 103, 110, 125, 128, 134, 139...</td>\n",
       "      <td>angel</td>\n",
       "    </tr>\n",
       "  </tbody>\n",
       "</table>\n",
       "</div>"
      ],
      "text/plain": [
       "                                                drawing         word\n",
       "1744  [[[16, 11, 15, 24, 36, 47, 58], [58, 44, 23, 6...  alarm clock\n",
       "969   [[[24, 25, 37, 78, 92, 100, 109, 107, 100, 53,...          ant\n",
       "10    [[[102, 63, 14, 2, 0, 9, 29, 51, 100, 142, 181...     airplane\n",
       "1674  [[[110, 105, 106, 109, 156, 168, 195, 213, 231...     airplane\n",
       "398   [[[112, 114, 103, 103, 110, 125, 128, 134, 139...        angel"
      ]
     },
     "execution_count": 11,
     "metadata": {},
     "output_type": "execute_result"
    }
   ],
   "source": [
    "print('Train set shape: ', train.shape)\n",
    "print('Train set features: %s' % train.columns.values)\n",
    "print('Train number of label categories: %s' % N_CLASSES)\n",
    "train.head()\n"
   ]
  },
  {
   "cell_type": "code",
   "execution_count": 12,
   "metadata": {},
   "outputs": [],
   "source": [
    "#Fixing label\n",
    "train['word'] = train['word'].replace(' ', '_', regex=True)\n",
    "# Get labels and one-hot encode them.\n",
    "classes_names = train['word'].unique()\n",
    "labels = pd.get_dummies(train['word']).values\n",
    "train.drop(['word'], axis=1, inplace=True)\n",
    "# Transform drawing into numpy arrays\n",
    "train['drawing_np'] = train['drawing'].apply(drawing_to_np)\n",
    "# Reshape arrays\n",
    "train_drawings = np.asarray([x.reshape(HEIGHT, WIDTH, CHANNEL) for x in train['drawing_np'].values])"
   ]
  },
  {
   "cell_type": "code",
   "execution_count": 13,
   "metadata": {},
   "outputs": [
    {
     "data": {
      "text/html": [
       "<div>\n",
       "<style scoped>\n",
       "    .dataframe tbody tr th:only-of-type {\n",
       "        vertical-align: middle;\n",
       "    }\n",
       "\n",
       "    .dataframe tbody tr th {\n",
       "        vertical-align: top;\n",
       "    }\n",
       "\n",
       "    .dataframe thead th {\n",
       "        text-align: right;\n",
       "    }\n",
       "</style>\n",
       "<table border=\"1\" class=\"dataframe\">\n",
       "  <thead>\n",
       "    <tr style=\"text-align: right;\">\n",
       "      <th></th>\n",
       "      <th>drawing</th>\n",
       "      <th>drawing_np</th>\n",
       "    </tr>\n",
       "  </thead>\n",
       "  <tbody>\n",
       "    <tr>\n",
       "      <th>1744</th>\n",
       "      <td>[[[16, 11, 15, 24, 36, 47, 58], [58, 44, 23, 6...</td>\n",
       "      <td>[[1.0, 1.0, 1.0, 1.0, 1.0, 1.0, 1.0, 1.0, 1.0,...</td>\n",
       "    </tr>\n",
       "    <tr>\n",
       "      <th>969</th>\n",
       "      <td>[[[24, 25, 37, 78, 92, 100, 109, 107, 100, 53,...</td>\n",
       "      <td>[[1.0, 1.0, 1.0, 1.0, 1.0, 1.0, 1.0, 1.0, 1.0,...</td>\n",
       "    </tr>\n",
       "    <tr>\n",
       "      <th>10</th>\n",
       "      <td>[[[102, 63, 14, 2, 0, 9, 29, 51, 100, 142, 181...</td>\n",
       "      <td>[[1.0, 1.0, 1.0, 1.0, 1.0, 1.0, 1.0, 1.0, 1.0,...</td>\n",
       "    </tr>\n",
       "    <tr>\n",
       "      <th>1674</th>\n",
       "      <td>[[[110, 105, 106, 109, 156, 168, 195, 213, 231...</td>\n",
       "      <td>[[1.0, 1.0, 1.0, 1.0, 1.0, 1.0, 1.0, 1.0, 1.0,...</td>\n",
       "    </tr>\n",
       "    <tr>\n",
       "      <th>398</th>\n",
       "      <td>[[[112, 114, 103, 103, 110, 125, 128, 134, 139...</td>\n",
       "      <td>[[1.0, 1.0, 1.0, 1.0, 1.0, 1.0, 1.0, 1.0, 1.0,...</td>\n",
       "    </tr>\n",
       "  </tbody>\n",
       "</table>\n",
       "</div>"
      ],
      "text/plain": [
       "                                                drawing  \\\n",
       "1744  [[[16, 11, 15, 24, 36, 47, 58], [58, 44, 23, 6...   \n",
       "969   [[[24, 25, 37, 78, 92, 100, 109, 107, 100, 53,...   \n",
       "10    [[[102, 63, 14, 2, 0, 9, 29, 51, 100, 142, 181...   \n",
       "1674  [[[110, 105, 106, 109, 156, 168, 195, 213, 231...   \n",
       "398   [[[112, 114, 103, 103, 110, 125, 128, 134, 139...   \n",
       "\n",
       "                                             drawing_np  \n",
       "1744  [[1.0, 1.0, 1.0, 1.0, 1.0, 1.0, 1.0, 1.0, 1.0,...  \n",
       "969   [[1.0, 1.0, 1.0, 1.0, 1.0, 1.0, 1.0, 1.0, 1.0,...  \n",
       "10    [[1.0, 1.0, 1.0, 1.0, 1.0, 1.0, 1.0, 1.0, 1.0,...  \n",
       "1674  [[1.0, 1.0, 1.0, 1.0, 1.0, 1.0, 1.0, 1.0, 1.0,...  \n",
       "398   [[1.0, 1.0, 1.0, 1.0, 1.0, 1.0, 1.0, 1.0, 1.0,...  "
      ]
     },
     "execution_count": 13,
     "metadata": {},
     "output_type": "execute_result"
    }
   ],
   "source": [
    "train.head()"
   ]
  },
  {
   "cell_type": "code",
   "execution_count": 14,
   "metadata": {},
   "outputs": [],
   "source": [
    "x_train, x_val, y_train, y_val = train_test_split(train_drawings, labels, test_size=0.2, random_state=1)"
   ]
  },
  {
   "cell_type": "code",
   "execution_count": 15,
   "metadata": {},
   "outputs": [],
   "source": [
    "model = Sequential()\n",
    "\n",
    "model.add(Conv2D(32, kernel_size=(5,5),padding='Same', activation='relu', input_shape=(HEIGHT, WIDTH, CHANNEL)))\n",
    "model.add(Conv2D(32, kernel_size=(5,5),padding='Same', activation='relu'))\n",
    "model.add(MaxPool2D(pool_size=(2,2)))\n",
    "model.add(Dropout(0.25))\n",
    "\n",
    "model.add(Conv2D(64, kernel_size=(3,3),padding='Same', activation='relu'))\n",
    "model.add(Conv2D(64, kernel_size=(3,3),padding='Same', activation='relu'))\n",
    "model.add(MaxPool2D(pool_size=(2,2), strides=(2,2)))\n",
    "model.add(Dropout(0.25))\n",
    "\n",
    "model.add(Flatten())\n",
    "\n",
    "model.add(Dense(256, activation='relu'))\n",
    "model.add(Dropout(0.5))\n",
    "\n",
    "model.add(Dense(N_CLASSES, activation = \"softmax\"))\n",
    "\n",
    "optimizer = optimizers.adam(lr=LEARNING_RATE)\n",
    "model.compile(optimizer=optimizer , loss=\"categorical_crossentropy\", metrics=[\"accuracy\"])"
   ]
  },
  {
   "cell_type": "code",
   "execution_count": 16,
   "metadata": {},
   "outputs": [
    {
     "name": "stdout",
     "output_type": "stream",
     "text": [
      "Dataset size: 12000\n",
      "Epochs: 60\n",
      "Learning rate: 0.001\n",
      "Batch size: 64\n",
      "Input dimension: (28, 28, 1)\n",
      "_________________________________________________________________\n",
      "Layer (type)                 Output Shape              Param #   \n",
      "=================================================================\n",
      "conv2d_1 (Conv2D)            (None, 28, 28, 32)        832       \n",
      "_________________________________________________________________\n",
      "conv2d_2 (Conv2D)            (None, 28, 28, 32)        25632     \n",
      "_________________________________________________________________\n",
      "max_pooling2d_1 (MaxPooling2 (None, 14, 14, 32)        0         \n",
      "_________________________________________________________________\n",
      "dropout_1 (Dropout)          (None, 14, 14, 32)        0         \n",
      "_________________________________________________________________\n",
      "conv2d_3 (Conv2D)            (None, 14, 14, 64)        18496     \n",
      "_________________________________________________________________\n",
      "conv2d_4 (Conv2D)            (None, 14, 14, 64)        36928     \n",
      "_________________________________________________________________\n",
      "max_pooling2d_2 (MaxPooling2 (None, 7, 7, 64)          0         \n",
      "_________________________________________________________________\n",
      "dropout_2 (Dropout)          (None, 7, 7, 64)          0         \n",
      "_________________________________________________________________\n",
      "flatten_1 (Flatten)          (None, 3136)              0         \n",
      "_________________________________________________________________\n",
      "dense_1 (Dense)              (None, 256)               803072    \n",
      "_________________________________________________________________\n",
      "dropout_3 (Dropout)          (None, 256)               0         \n",
      "_________________________________________________________________\n",
      "dense_2 (Dense)              (None, 6)                 1542      \n",
      "=================================================================\n",
      "Total params: 886,502\n",
      "Trainable params: 886,502\n",
      "Non-trainable params: 0\n",
      "_________________________________________________________________\n"
     ]
    }
   ],
   "source": [
    "print('Dataset size: %s' % train.shape[0])\n",
    "print('Epochs: %s' % EPOCHS)\n",
    "print('Learning rate: %s' % LEARNING_RATE)\n",
    "print('Batch size: %s' % BATCH_SIZE)\n",
    "print('Input dimension: (%s, %s, %s)' % (HEIGHT, WIDTH, CHANNEL))\n",
    "model.summary()"
   ]
  },
  {
   "cell_type": "code",
   "execution_count": 17,
   "metadata": {},
   "outputs": [
    {
     "name": "stdout",
     "output_type": "stream",
     "text": [
      "Train on 9600 samples, validate on 2400 samples\n",
      "Epoch 1/60\n",
      "9600/9600 [==============================] - 45s 5ms/step - loss: 1.7935 - acc: 0.1591 - val_loss: 1.7919 - val_acc: 0.1642\n",
      "Epoch 2/60\n",
      "9600/9600 [==============================] - 44s 5ms/step - loss: 1.7921 - acc: 0.1643 - val_loss: 1.7910 - val_acc: 0.2225\n",
      "Epoch 3/60\n",
      "9600/9600 [==============================] - 44s 5ms/step - loss: 1.4972 - acc: 0.3946 - val_loss: 1.1638 - val_acc: 0.5737\n",
      "Epoch 4/60\n",
      "9600/9600 [==============================] - 44s 5ms/step - loss: 1.1657 - acc: 0.5623 - val_loss: 1.0469 - val_acc: 0.6271\n",
      "Epoch 5/60\n",
      "9600/9600 [==============================] - 44s 5ms/step - loss: 1.0463 - acc: 0.6168 - val_loss: 0.9622 - val_acc: 0.6558\n",
      "Epoch 6/60\n",
      "9600/9600 [==============================] - 44s 5ms/step - loss: 1.0048 - acc: 0.6373 - val_loss: 0.9324 - val_acc: 0.6754\n",
      "Epoch 7/60\n",
      "9600/9600 [==============================] - 44s 5ms/step - loss: 0.9600 - acc: 0.6527 - val_loss: 0.8848 - val_acc: 0.6892\n",
      "Epoch 8/60\n",
      "9600/9600 [==============================] - 44s 5ms/step - loss: 0.9352 - acc: 0.6617 - val_loss: 0.8967 - val_acc: 0.6737\n",
      "Epoch 9/60\n",
      "9600/9600 [==============================] - 44s 5ms/step - loss: 0.9116 - acc: 0.6703 - val_loss: 0.8750 - val_acc: 0.6942\n",
      "Epoch 10/60\n",
      "9600/9600 [==============================] - 44s 5ms/step - loss: 0.8920 - acc: 0.6775 - val_loss: 0.8574 - val_acc: 0.6904\n",
      "Epoch 11/60\n",
      "9600/9600 [==============================] - 44s 5ms/step - loss: 0.8742 - acc: 0.6843 - val_loss: 0.8465 - val_acc: 0.7029\n",
      "Epoch 12/60\n",
      "9600/9600 [==============================] - 44s 5ms/step - loss: 0.8596 - acc: 0.6941 - val_loss: 0.8462 - val_acc: 0.7050\n",
      "Epoch 13/60\n",
      "9600/9600 [==============================] - 44s 5ms/step - loss: 0.8380 - acc: 0.6984 - val_loss: 0.8221 - val_acc: 0.7129\n",
      "Epoch 14/60\n",
      "9600/9600 [==============================] - 44s 5ms/step - loss: 0.8214 - acc: 0.7046 - val_loss: 0.8094 - val_acc: 0.7104\n",
      "Epoch 15/60\n",
      "9600/9600 [==============================] - 44s 5ms/step - loss: 0.7995 - acc: 0.7152 - val_loss: 0.7941 - val_acc: 0.7117\n",
      "Epoch 16/60\n",
      "9600/9600 [==============================] - 44s 5ms/step - loss: 0.8014 - acc: 0.7171 - val_loss: 0.7781 - val_acc: 0.7246\n",
      "Epoch 17/60\n",
      "9600/9600 [==============================] - 44s 5ms/step - loss: 0.7854 - acc: 0.7234 - val_loss: 0.7804 - val_acc: 0.7179\n",
      "Epoch 18/60\n",
      "9600/9600 [==============================] - 44s 5ms/step - loss: 0.7680 - acc: 0.7267 - val_loss: 0.8447 - val_acc: 0.6875\n",
      "Epoch 19/60\n",
      "9600/9600 [==============================] - 44s 5ms/step - loss: 0.7451 - acc: 0.7303 - val_loss: 0.7677 - val_acc: 0.7321\n",
      "Epoch 20/60\n",
      "9600/9600 [==============================] - 44s 5ms/step - loss: 0.7336 - acc: 0.7388 - val_loss: 0.7647 - val_acc: 0.7350\n",
      "Epoch 21/60\n",
      "9600/9600 [==============================] - 44s 5ms/step - loss: 0.7276 - acc: 0.7442 - val_loss: 0.7488 - val_acc: 0.7333\n",
      "Epoch 22/60\n",
      "9600/9600 [==============================] - 44s 5ms/step - loss: 0.7073 - acc: 0.7466 - val_loss: 0.7494 - val_acc: 0.7338\n",
      "Epoch 23/60\n",
      "9600/9600 [==============================] - 44s 5ms/step - loss: 0.6927 - acc: 0.7490 - val_loss: 0.7283 - val_acc: 0.7429\n",
      "Epoch 24/60\n",
      "9600/9600 [==============================] - 44s 5ms/step - loss: 0.6848 - acc: 0.7558 - val_loss: 0.7369 - val_acc: 0.7338\n",
      "Epoch 25/60\n",
      "9600/9600 [==============================] - 44s 5ms/step - loss: 0.6789 - acc: 0.7582 - val_loss: 0.7279 - val_acc: 0.7442\n",
      "Epoch 26/60\n",
      "9600/9600 [==============================] - 44s 5ms/step - loss: 0.6569 - acc: 0.7661 - val_loss: 0.7322 - val_acc: 0.7442\n",
      "Epoch 27/60\n",
      "9600/9600 [==============================] - 44s 5ms/step - loss: 0.6405 - acc: 0.7709 - val_loss: 0.7243 - val_acc: 0.7433\n",
      "Epoch 28/60\n",
      "9600/9600 [==============================] - 44s 5ms/step - loss: 0.6432 - acc: 0.7698 - val_loss: 0.7326 - val_acc: 0.7429\n",
      "Epoch 29/60\n",
      "9600/9600 [==============================] - 44s 5ms/step - loss: 0.6349 - acc: 0.7693 - val_loss: 0.7244 - val_acc: 0.7467\n",
      "Epoch 30/60\n",
      "9600/9600 [==============================] - 44s 5ms/step - loss: 0.6218 - acc: 0.7812 - val_loss: 0.7150 - val_acc: 0.7496\n",
      "Epoch 31/60\n",
      "9600/9600 [==============================] - 44s 5ms/step - loss: 0.6088 - acc: 0.7812 - val_loss: 0.7078 - val_acc: 0.7554\n",
      "Epoch 32/60\n",
      "9600/9600 [==============================] - 44s 5ms/step - loss: 0.5927 - acc: 0.7866 - val_loss: 0.6997 - val_acc: 0.7546\n",
      "Epoch 33/60\n",
      "9600/9600 [==============================] - 44s 5ms/step - loss: 0.5971 - acc: 0.7864 - val_loss: 0.7045 - val_acc: 0.7517\n",
      "Epoch 34/60\n",
      "9600/9600 [==============================] - 44s 5ms/step - loss: 0.5842 - acc: 0.7906 - val_loss: 0.7198 - val_acc: 0.7529\n",
      "Epoch 35/60\n",
      "9600/9600 [==============================] - 44s 5ms/step - loss: 0.5861 - acc: 0.7925 - val_loss: 0.7126 - val_acc: 0.7646\n",
      "Epoch 36/60\n",
      "9600/9600 [==============================] - 44s 5ms/step - loss: 0.5736 - acc: 0.7908 - val_loss: 0.6970 - val_acc: 0.7629\n",
      "Epoch 37/60\n",
      "9600/9600 [==============================] - 44s 5ms/step - loss: 0.5554 - acc: 0.8024 - val_loss: 0.6941 - val_acc: 0.7562\n",
      "Epoch 38/60\n",
      "9600/9600 [==============================] - 44s 5ms/step - loss: 0.5580 - acc: 0.7999 - val_loss: 0.7053 - val_acc: 0.7492\n",
      "Epoch 39/60\n",
      "9600/9600 [==============================] - 44s 5ms/step - loss: 0.5487 - acc: 0.8083 - val_loss: 0.6977 - val_acc: 0.7592\n",
      "Epoch 40/60\n",
      "9600/9600 [==============================] - 44s 5ms/step - loss: 0.5365 - acc: 0.8039 - val_loss: 0.7099 - val_acc: 0.7625\n",
      "Epoch 41/60\n",
      "9600/9600 [==============================] - 44s 5ms/step - loss: 0.5373 - acc: 0.8015 - val_loss: 0.6980 - val_acc: 0.7558\n",
      "Epoch 42/60\n",
      "9600/9600 [==============================] - 44s 5ms/step - loss: 0.5181 - acc: 0.8172 - val_loss: 0.7252 - val_acc: 0.7575\n",
      "Epoch 43/60\n",
      "9600/9600 [==============================] - 44s 5ms/step - loss: 0.5169 - acc: 0.8135 - val_loss: 0.7101 - val_acc: 0.7617\n",
      "Epoch 44/60\n",
      "9600/9600 [==============================] - 44s 5ms/step - loss: 0.5144 - acc: 0.8135 - val_loss: 0.7164 - val_acc: 0.7629\n",
      "Epoch 45/60\n",
      "9600/9600 [==============================] - 44s 5ms/step - loss: 0.5122 - acc: 0.8135 - val_loss: 0.7115 - val_acc: 0.7533\n",
      "Epoch 46/60\n",
      "9600/9600 [==============================] - 44s 5ms/step - loss: 0.5009 - acc: 0.8137 - val_loss: 0.7169 - val_acc: 0.7592\n",
      "Epoch 47/60\n",
      "9600/9600 [==============================] - 44s 5ms/step - loss: 0.4948 - acc: 0.8181 - val_loss: 0.7068 - val_acc: 0.7525\n",
      "Epoch 48/60\n",
      "9600/9600 [==============================] - 44s 5ms/step - loss: 0.4793 - acc: 0.8277 - val_loss: 0.7068 - val_acc: 0.7629\n",
      "Epoch 49/60\n",
      "9600/9600 [==============================] - 44s 5ms/step - loss: 0.4840 - acc: 0.8228 - val_loss: 0.7126 - val_acc: 0.7562\n",
      "Epoch 50/60\n",
      "9600/9600 [==============================] - 44s 5ms/step - loss: 0.4774 - acc: 0.8257 - val_loss: 0.7192 - val_acc: 0.7608\n",
      "Epoch 51/60\n",
      "9600/9600 [==============================] - 44s 5ms/step - loss: 0.4837 - acc: 0.8221 - val_loss: 0.6987 - val_acc: 0.7721\n",
      "Epoch 52/60\n",
      "9600/9600 [==============================] - 44s 5ms/step - loss: 0.4523 - acc: 0.8332 - val_loss: 0.7148 - val_acc: 0.7675\n",
      "Epoch 53/60\n",
      "9600/9600 [==============================] - 44s 5ms/step - loss: 0.4508 - acc: 0.8347 - val_loss: 0.7516 - val_acc: 0.7575\n",
      "Epoch 54/60\n",
      "9600/9600 [==============================] - 44s 5ms/step - loss: 0.4507 - acc: 0.8357 - val_loss: 0.7294 - val_acc: 0.7629\n",
      "Epoch 55/60\n",
      "9600/9600 [==============================] - 44s 5ms/step - loss: 0.4436 - acc: 0.8375 - val_loss: 0.7241 - val_acc: 0.7604\n",
      "Epoch 56/60\n",
      "9600/9600 [==============================] - 44s 5ms/step - loss: 0.4417 - acc: 0.8393 - val_loss: 0.7031 - val_acc: 0.7633\n",
      "Epoch 57/60\n",
      "9600/9600 [==============================] - 44s 5ms/step - loss: 0.4165 - acc: 0.8528 - val_loss: 0.7222 - val_acc: 0.7571\n",
      "Epoch 58/60\n",
      "9600/9600 [==============================] - 45s 5ms/step - loss: 0.4332 - acc: 0.8380 - val_loss: 0.7237 - val_acc: 0.7662\n",
      "Epoch 59/60\n",
      "9600/9600 [==============================] - 47s 5ms/step - loss: 0.4227 - acc: 0.8435 - val_loss: 0.7195 - val_acc: 0.7662\n",
      "Epoch 60/60\n",
      "9600/9600 [==============================] - 45s 5ms/step - loss: 0.4251 - acc: 0.8471 - val_loss: 0.7186 - val_acc: 0.7617\n"
     ]
    }
   ],
   "source": [
    "history = model.fit(x_train, y_train, batch_size=BATCH_SIZE, epochs=EPOCHS, validation_data=(x_val, y_val))"
   ]
  },
  {
   "cell_type": "code",
   "execution_count": 18,
   "metadata": {},
   "outputs": [
    {
     "name": "stdout",
     "output_type": "stream",
     "text": [
      "2400/2400 [==============================] - 4s 2ms/step\n"
     ]
    },
    {
     "data": {
      "text/plain": [
       "[0.7185744088888169, 0.7616666666666667]"
      ]
     },
     "execution_count": 18,
     "metadata": {},
     "output_type": "execute_result"
    }
   ],
   "source": [
    "score = model.evaluate(x_val, y_val)\n",
    "score"
   ]
  },
  {
   "cell_type": "code",
   "execution_count": 19,
   "metadata": {},
   "outputs": [
    {
     "data": {
      "image/png": "[encoded data removed]",
      "text/plain": [
       "<matplotlib.figure.Figure at 0x20f442beeb8>"
      ]
     },
     "metadata": {},
     "output_type": "display_data"
    }
   ],
   "source": [
    "cnf_matrix = confusion_matrix(np.argmax(y_val, axis=1), model.predict_classes(x_val))\n",
    "plot_confusion_matrix(cnf_matrix, classes_names)\n",
    "\n"
   ]
  },
  {
   "cell_type": "code",
   "execution_count": 20,
   "metadata": {},
   "outputs": [],
   "source": [
    "test['drawing_np'] = test['drawing'].apply(drawing_to_np)\n",
    "# Reshape arrays\n",
    "test_drawings = np.asarray([x.reshape(HEIGHT, WIDTH, CHANNEL) for x in test['drawing_np'].values])"
   ]
  },
  {
   "cell_type": "code",
   "execution_count": 21,
   "metadata": {},
   "outputs": [],
   "source": [
    "predictions = model.predict(test_drawings)\n",
    "top_3_predictions = np.asarray([np.argpartition(pred, -3)[-3:] for pred in predictions])\n",
    "top_3_predictions = ['%s %s %s' % (classes_names[pred[0]], classes_names[pred[1]], classes_names[pred[2]]) for pred in top_3_predictions]\n",
    "test['word'] = top_3_predictions\n",
    "\n"
   ]
  },
  {
   "cell_type": "code",
   "execution_count": 22,
   "metadata": {},
   "outputs": [
    {
     "data": {
      "text/html": [
       "<div>\n",
       "<style scoped>\n",
       "    .dataframe tbody tr th:only-of-type {\n",
       "        vertical-align: middle;\n",
       "    }\n",
       "\n",
       "    .dataframe tbody tr th {\n",
       "        vertical-align: top;\n",
       "    }\n",
       "\n",
       "    .dataframe thead th {\n",
       "        text-align: right;\n",
       "    }\n",
       "</style>\n",
       "<table border=\"1\" class=\"dataframe\">\n",
       "  <thead>\n",
       "    <tr style=\"text-align: right;\">\n",
       "      <th></th>\n",
       "      <th>key_id</th>\n",
       "      <th>word</th>\n",
       "    </tr>\n",
       "  </thead>\n",
       "  <tbody>\n",
       "    <tr>\n",
       "      <th>0</th>\n",
       "      <td>9000003627287624</td>\n",
       "      <td>alarm_clock airplane ambulance</td>\n",
       "    </tr>\n",
       "    <tr>\n",
       "      <th>1</th>\n",
       "      <td>9000010688666847</td>\n",
       "      <td>angel alarm_clock airplane</td>\n",
       "    </tr>\n",
       "    <tr>\n",
       "      <th>2</th>\n",
       "      <td>9000023642890129</td>\n",
       "      <td>angel animal_migration ambulance</td>\n",
       "    </tr>\n",
       "    <tr>\n",
       "      <th>3</th>\n",
       "      <td>9000038588854897</td>\n",
       "      <td>ant ambulance animal_migration</td>\n",
       "    </tr>\n",
       "    <tr>\n",
       "      <th>4</th>\n",
       "      <td>9000052667981386</td>\n",
       "      <td>ambulance animal_migration alarm_clock</td>\n",
       "    </tr>\n",
       "  </tbody>\n",
       "</table>\n",
       "</div>"
      ],
      "text/plain": [
       "             key_id                                    word\n",
       "0  9000003627287624          alarm_clock airplane ambulance\n",
       "1  9000010688666847              angel alarm_clock airplane\n",
       "2  9000023642890129        angel animal_migration ambulance\n",
       "3  9000038588854897          ant ambulance animal_migration\n",
       "4  9000052667981386  ambulance animal_migration alarm_clock"
      ]
     },
     "execution_count": 22,
     "metadata": {},
     "output_type": "execute_result"
    }
   ],
   "source": [
    "submission = test[['key_id', 'word']]\n",
    "submission.to_csv(SUBMISSION_NAME, index=False)\n",
    "submission.head()"
   ]
  },
  {
   "cell_type": "code",
   "execution_count": null,
   "metadata": {},
   "outputs": [],
   "source": []
  }
 ],
 "metadata": {
  "kernelspec": {
   "display_name": "Python 3",
   "language": "python",
   "name": "python3"
  },
  "language_info": {
   "codemirror_mode": {
    "name": "ipython",
    "version": 3
   },
   "file_extension": ".py",
   "mimetype": "text/x-python",
   "name": "python",
   "nbconvert_exporter": "python",
   "pygments_lexer": "ipython3",
   "version": "3.6.4"
  }
 },
 "nbformat": 4,
 "nbformat_minor": 2
}
